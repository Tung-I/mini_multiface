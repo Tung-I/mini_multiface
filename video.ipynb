{
 "cells": [
  {
   "cell_type": "code",
   "execution_count": 1,
   "metadata": {},
   "outputs": [],
   "source": [
    "import imageio\n",
    "from pathlib import Path\n",
    "import os\n",
    "import numpy as np\n",
    "from matplotlib import pyplot as plt"
   ]
  },
  {
   "cell_type": "code",
   "execution_count": 48,
   "metadata": {},
   "outputs": [],
   "source": [
    "root_dir = '/home/tungi/datasets/multiface'\n",
    "tar_id = 'm--20180227--0000--6795937--GHS'\n",
    "tar_dcp = 'E061_Lips_Puffed'\n",
    "im_sub_dirs = [x[0] for x in os.walk(os.path.join(root_dir, tar_id, , 'images', tar_dcp))][1:]\n",
    "im_sub_dirs.sort()\n",
    "\n",
    "tar_dir = im_sub_dirs[1]\n",
    "im_paths = [str(p) for p in Path(tar_dir).glob('*')]\n",
    "im_paths.sort()\n",
    "\n",
    "save_dir = os.path.join(root_dir, tar_id, tar_dcp)\n",
    "file_name = tar_dir.split('/')[-1]"
   ]
  },
  {
   "cell_type": "code",
   "execution_count": 49,
   "metadata": {},
   "outputs": [
    {
     "name": "stderr",
     "output_type": "stream",
     "text": [
      "IMAGEIO FFMPEG_WRITER WARNING: input image is not divisible by macro_block_size=16, resizing from (1334, 2048) to (1344, 2048) to ensure video compatibility with most codecs and players. To prevent resizing, make your input image divisible by the macro_block_size or set the macro_block_size to 1 (risking incompatibility).\n",
      "[swscaler @ 0x5637bc0] Warning: data is not aligned! This can lead to a speed loss\n"
     ]
    }
   ],
   "source": [
    "frames = []\n",
    "for im_path in im_paths:\n",
    "    frames.append(imageio.v2.imread(im_path))\n",
    "imageio.mimwrite(os.path.join(save_dir, '{}.mp4'.format(file_name)), frames, fps=20, quality=8)"
   ]
  },
  {
   "cell_type": "code",
   "execution_count": null,
   "metadata": {},
   "outputs": [],
   "source": []
  }
 ],
 "metadata": {
  "kernelspec": {
   "display_name": "pytorch3d",
   "language": "python",
   "name": "pytorch3d"
  },
  "language_info": {
   "codemirror_mode": {
    "name": "ipython",
    "version": 3
   },
   "file_extension": ".py",
   "mimetype": "text/x-python",
   "name": "python",
   "nbconvert_exporter": "python",
   "pygments_lexer": "ipython3",
   "version": "3.8.13"
  }
 },
 "nbformat": 4,
 "nbformat_minor": 4
}
